{
 "cells": [
  {
   "cell_type": "code",
   "execution_count": 10,
   "metadata": {},
   "outputs": [
    {
     "name": "stdout",
     "output_type": "stream",
     "text": [
      "Nombre d'enregistrements :  160\n",
      "Nombre d'attributs :  6\n",
      "Header :  b'MATLAB 5.0 MAT-file, Platform: PCWIN64, Created on: Mon Dec 22 21:07:21 2014'\n",
      "Version :  1.0\n",
      "Globals :  []\n"
     ]
    }
   ],
   "source": [
    "import numpy as np \n",
    "import pandas as pd\n",
    "from scipy.io import loadmat\n",
    "\n",
    "test = loadmat('./imu_data/a1_s1_t1_inertial.mat')\n",
    "\n",
    "print(\"Nombre d'enregistrements : \", len(test['d_iner']))\n",
    "print(\"Nombre d'attributs : \", len(test['d_iner'][0]))\n",
    "\n",
    "print(\"Header : \", test['__header__'])\n",
    "print(\"Version : \", test['__version__'])\n",
    "print(\"Globals : \", test['__globals__'])"
   ]
  },
  {
   "cell_type": "code",
   "execution_count": 26,
   "metadata": {},
   "outputs": [
    {
     "name": "stdout",
     "output_type": "stream",
     "text": [
      "fichier a8_s1_t4_inertial.mat manquant\n",
      "fichier a23_s6_t4_inertial.mat manquant\n",
      "fichier a27_s8_t4_inertial.mat manquant\n"
     ]
    }
   ],
   "source": [
    "def load_data(nb_action, nb_sujet, nb_essai, data):\n",
    "    try:\n",
    "        file = loadmat(\"./imu_data/a{0}_s{1}_t{2}_inertial.mat\".format(nb_action, nb_sujet, nb_essai))\n",
    "        file_data = file['d_iner']\n",
    "        for line in file_data:\n",
    "            data[\"accéléromètre_X\"].append(line[0])\n",
    "            data[\"accéléromètre_Y\"].append(line[1])\n",
    "            data[\"accéléromètre_Z\"].append(line[2])\n",
    "            data[\"gyroscope_X\"].append(line[3])\n",
    "            data[\"gyroscope_Y\"].append(line[4])\n",
    "            data[\"gyroscope_Z\"].append(line[5])\n",
    "            data[\"id_sujet\"].append(nb_sujet)\n",
    "            data[\"id_essai\"].append(nb_essai)\n",
    "            data[\"id_action\"].append(nb_action)\n",
    "    except:\n",
    "        print(\"fichier a{0}_s{1}_t{2}_inertial.mat manquant\".format(nb_action, nb_sujet, nb_essai))\n",
    "\n",
    "data = {\n",
    "    \"accéléromètre_X\": [],\n",
    "    \"accéléromètre_Y\": [],\n",
    "    \"accéléromètre_Z\": [],\n",
    "    \"gyroscope_X\": [],\n",
    "    \"gyroscope_Y\": [],\n",
    "    \"gyroscope_Z\": [],\n",
    "    \"id_sujet\": [],\n",
    "    \"id_essai\": [],\n",
    "    \"id_action\": []\n",
    "}\n",
    "\n",
    "for action in range(1, 28):\n",
    "    for sujet in range(1, 9):\n",
    "        for essai in range(1, 5):\n",
    "            # lire le contenu du fichier et l'ajouter au dataframe\n",
    "            # appeler la fonction qui lit le fichier souhaité\n",
    "            load_data(action, sujet, essai, data)\n",
    "\n",
    "data = pd.DataFrame(data)"
   ]
  },
  {
   "cell_type": "code",
   "execution_count": null,
   "metadata": {},
   "outputs": [],
   "source": [
    "def tracer_signal():\n",
    "    pass"
   ]
  }
 ],
 "metadata": {
  "kernelspec": {
   "display_name": "env",
   "language": "python",
   "name": "python3"
  },
  "language_info": {
   "codemirror_mode": {
    "name": "ipython",
    "version": 3
   },
   "file_extension": ".py",
   "mimetype": "text/x-python",
   "name": "python",
   "nbconvert_exporter": "python",
   "pygments_lexer": "ipython3",
   "version": "3.10.12"
  }
 },
 "nbformat": 4,
 "nbformat_minor": 2
}
