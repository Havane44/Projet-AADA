{
 "cells": [
  {
   "cell_type": "code",
   "execution_count": 3,
   "metadata": {},
   "outputs": [
    {
     "name": "stdout",
     "output_type": "stream",
     "text": [
      "Nombre d'enregistrements :  160\n",
      "Nombre d'attributs :  6\n"
     ]
    }
   ],
   "source": [
    "import numpy as np \n",
    "import pandas as pd\n",
    "from scipy.io import loadmat\n",
    "\n",
    "test = loadmat('./imu_data/a1_s1_t1_inertial.mat')\n",
    "\n",
    "print(\"Nombre d'enregistrements : \", len(test['d_iner']))\n",
    "print(\"Nombre d'attributs : \", len(test['d_iner'][0]))\n",
    "\n",
    "# print(\"Header : \", test['__header__'])\n",
    "# print(\"Version : \", test['__version__'])\n",
    "# print(\"Globals : \", test['__globals__'])"
   ]
  },
  {
   "cell_type": "code",
   "execution_count": null,
   "metadata": {},
   "outputs": [],
   "source": [
    "def read_mat_file(filepath):\n",
    "    "
   ]
  },
  {
   "cell_type": "code",
   "execution_count": null,
   "metadata": {},
   "outputs": [],
   "source": [
    "data = {\n",
    "    \"accéléromètre_X\": [],\n",
    "    \"accéléromètre_Y\": [],\n",
    "    \"accéléromètre_Z\": [],\n",
    "    \"gyroscope_X\": [],\n",
    "    \"gyroscope_Y\": [],\n",
    "    \"gyroscope_Z\": [],\n",
    "    \"id_sujet\": [],\n",
    "    \"id_essai\": [],\n",
    "    \"id_action\": []\n",
    "}\n",
    "\n",
    "\n",
    "\n",
    "for action in range(1, 28):\n",
    "    for sujet in range(1, 9):\n",
    "        for essai in range(1, 5):\n",
    "            # lire le contenu du fichier et l'ajouter au dataframe\n",
    "            # appeler la fonction qui lit le fichier souhaité\n",
    "            read_mat_file()\n"
   ]
  }
 ],
 "metadata": {
  "kernelspec": {
   "display_name": "env",
   "language": "python",
   "name": "python3"
  },
  "language_info": {
   "codemirror_mode": {
    "name": "ipython",
    "version": 3
   },
   "file_extension": ".py",
   "mimetype": "text/x-python",
   "name": "python",
   "nbconvert_exporter": "python",
   "pygments_lexer": "ipython3",
   "version": "3.10.12"
  }
 },
 "nbformat": 4,
 "nbformat_minor": 2
}
